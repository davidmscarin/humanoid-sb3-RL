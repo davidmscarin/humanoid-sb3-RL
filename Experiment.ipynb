{
 "cells": [
  {
   "cell_type": "code",
   "execution_count": 1,
   "metadata": {},
   "outputs": [],
   "source": [
    "import gymnasium as gym\n",
    "from stable_baselines3 import A2C"
   ]
  },
  {
   "cell_type": "code",
   "execution_count": 2,
   "metadata": {},
   "outputs": [],
   "source": [
    "env = gym.make('Humanoid-v4')"
   ]
  },
  {
   "cell_type": "code",
   "execution_count": 3,
   "metadata": {},
   "outputs": [
    {
     "name": "stdout",
     "output_type": "stream",
     "text": [
      "sample action: 2\n",
      "observation space shape: (8,)\n",
      "sample observation: [ 85.857056  -32.28255     2.1846251  -2.1732867  -1.634835   -0.8675323\n",
      "   0.8517368   0.2875065]\n"
     ]
    }
   ],
   "source": [
    "#Let's take a peak at the lunar lander environment:\n",
    "\n",
    "# Create the environment\n",
    "env = gym.make('LunarLander-v2')  # continuous: LunarLanderContinuous-v2\n",
    "\n",
    "# required before you can step the environment\n",
    "env.reset()\n",
    "\n",
    "# sample action:\n",
    "print(\"sample action:\", env.action_space.sample())\n",
    "\n",
    "# observation space shape:\n",
    "print(\"observation space shape:\", env.observation_space.shape)\n",
    "\n",
    "# sample observation:\n",
    "print(\"sample observation:\", env.observation_space.sample())\n",
    "\n",
    "env.close()"
   ]
  },
  {
   "cell_type": "code",
   "execution_count": 4,
   "metadata": {},
   "outputs": [
    {
     "name": "stderr",
     "output_type": "stream",
     "text": [
      "c:\\Users\\Paulo Alexandre\\anaconda3\\envs\\ISIA\\lib\\site-packages\\gymnasium\\envs\\box2d\\lunar_lander.py:681: UserWarning: \u001b[33mWARN: You are calling render method without specifying any render mode. You can specify the render_mode at initialization, e.g. gym.make(\"LunarLander-v2\", render_mode=\"rgb_array\")\u001b[0m\n",
      "  gym.logger.warn(\n"
     ]
    }
   ],
   "source": [
    "env.reset()\n",
    "\n",
    "for step in range(200):\n",
    "\tenv.render()\n",
    "\t# take random action\n",
    "\tenv.step(env.action_space.sample())\n",
    "\n",
    "env.close()"
   ]
  },
  {
   "cell_type": "code",
   "execution_count": 5,
   "metadata": {},
   "outputs": [
    {
     "ename": "ValueError",
     "evalue": "too many values to unpack (expected 4)",
     "output_type": "error",
     "traceback": [
      "\u001b[1;31m---------------------------------------------------------------------------\u001b[0m",
      "\u001b[1;31mValueError\u001b[0m                                Traceback (most recent call last)",
      "\u001b[1;32md:\\Paulo Alexandre\\Ensino_Superior\\3_ano\\1_semestre\\ISIA\\Trabalho2\\RLagent\\Experiment.ipynb Cell 5\u001b[0m line \u001b[0;36m4\n\u001b[0;32m      <a href='vscode-notebook-cell:/d%3A/Paulo%20Alexandre/Ensino_Superior/3_ano/1_semestre/ISIA/Trabalho2/RLagent/Experiment.ipynb#W4sZmlsZQ%3D%3D?line=1'>2</a>\u001b[0m \tenv\u001b[39m.\u001b[39mrender()\n\u001b[0;32m      <a href='vscode-notebook-cell:/d%3A/Paulo%20Alexandre/Ensino_Superior/3_ano/1_semestre/ISIA/Trabalho2/RLagent/Experiment.ipynb#W4sZmlsZQ%3D%3D?line=2'>3</a>\u001b[0m \t\u001b[39m# take random action\u001b[39;00m\n\u001b[1;32m----> <a href='vscode-notebook-cell:/d%3A/Paulo%20Alexandre/Ensino_Superior/3_ano/1_semestre/ISIA/Trabalho2/RLagent/Experiment.ipynb#W4sZmlsZQ%3D%3D?line=3'>4</a>\u001b[0m \tobs, reward, done, info \u001b[39m=\u001b[39m env\u001b[39m.\u001b[39mstep(env\u001b[39m.\u001b[39maction_space\u001b[39m.\u001b[39msample())\n\u001b[0;32m      <a href='vscode-notebook-cell:/d%3A/Paulo%20Alexandre/Ensino_Superior/3_ano/1_semestre/ISIA/Trabalho2/RLagent/Experiment.ipynb#W4sZmlsZQ%3D%3D?line=4'>5</a>\u001b[0m \t\u001b[39mprint\u001b[39m(reward, done)\n\u001b[0;32m      <a href='vscode-notebook-cell:/d%3A/Paulo%20Alexandre/Ensino_Superior/3_ano/1_semestre/ISIA/Trabalho2/RLagent/Experiment.ipynb#W4sZmlsZQ%3D%3D?line=6'>7</a>\u001b[0m env\u001b[39m.\u001b[39mclose()\n",
      "\u001b[1;31mValueError\u001b[0m: too many values to unpack (expected 4)"
     ]
    }
   ],
   "source": [
    "for step in range(200):\n",
    "\tenv.render()\n",
    "\t# take random action\n",
    "\tobs, reward, done, info = env.step(env.action_space.sample())\n",
    "\tprint(reward, done)\n",
    "\n",
    "env.close()"
   ]
  },
  {
   "cell_type": "code",
   "execution_count": null,
   "metadata": {},
   "outputs": [],
   "source": []
  }
 ],
 "metadata": {
  "kernelspec": {
   "display_name": "ISIA",
   "language": "python",
   "name": "python3"
  },
  "language_info": {
   "codemirror_mode": {
    "name": "ipython",
    "version": 3
   },
   "file_extension": ".py",
   "mimetype": "text/x-python",
   "name": "python",
   "nbconvert_exporter": "python",
   "pygments_lexer": "ipython3",
   "version": "3.9.18"
  }
 },
 "nbformat": 4,
 "nbformat_minor": 2
}
